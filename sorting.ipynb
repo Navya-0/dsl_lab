{
  "nbformat": 4,
  "nbformat_minor": 0,
  "metadata": {
    "colab": {
      "name": "sorting.ipynb",
      "provenance": [],
      "authorship_tag": "ABX9TyOaDxeWZR0Vf5DqqMMdDdzT",
      "include_colab_link": true
    },
    "kernelspec": {
      "name": "python3",
      "display_name": "Python 3"
    },
    "language_info": {
      "name": "python"
    }
  },
  "cells": [
    {
      "cell_type": "markdown",
      "metadata": {
        "id": "view-in-github",
        "colab_type": "text"
      },
      "source": [
        "<a href=\"https://colab.research.google.com/github/Navya-0/dsl_lab/blob/main/sorting.ipynb\" target=\"_parent\"><img src=\"https://colab.research.google.com/assets/colab-badge.svg\" alt=\"Open In Colab\"/></a>"
      ]
    },
    {
      "cell_type": "code",
      "metadata": {
        "colab": {
          "base_uri": "https://localhost:8080/"
        },
        "id": "FeIEB8e4u7wo",
        "outputId": "06517380-3dbc-41f3-dbdb-a948fea5ccc2"
      },
      "source": [
        "def ins_sort(lst):\n",
        "  for i in range(1,len(lst)):\n",
        "    pt=lst[i]\n",
        "    j=i-1\n",
        "    while j>=0 and pt<lst[j]:\n",
        "      lst[j+1]=lst[j]\n",
        "      j-=1\n",
        "    lst[j+1]=pt\n",
        "  return lst\n",
        "\n",
        "def bub_sort(lst):\n",
        "  for i in range(len(lst)-1):\n",
        "    temp=0\n",
        "    for j in range((len(lst)-1-i)):\n",
        "      if lst[j]>lst[j+1]:\n",
        "        temp=lst[j]\n",
        "        lst[j]=lst[j+1]\n",
        "        lst[j+1]=temp\n",
        "  return lst\n",
        "\n",
        "def partition(array, low, high):\n",
        "  pivot = array[high]\n",
        "  i = low - 1\n",
        "  for j in range(low, high):\n",
        "    if array[j] <= pivot:\n",
        "      i = i + 1\n",
        "      (array[i], array[j]) = (array[j], array[i])\n",
        "  (array[i + 1], array[high]) = (array[high], array[i + 1])\n",
        "  return i + 1\n",
        "\n",
        "def quickSort(array, low, high):\n",
        "  if low < high:\n",
        "    pi = partition(array, low, high)\n",
        "    quickSort(array, low, pi - 1)\n",
        "    quickSort(array, pi + 1, high)\n",
        "\n",
        "def selection_sort(a):\n",
        "    l=len(a)\n",
        "    for i in range(l-1):\n",
        "        min_inx=i\n",
        "        for j in range(i+1,l):\n",
        "            if a[j]<a[min_inx]:\n",
        "                min_inx=j\n",
        "        a[i],a[min_inx]=a[min_inx],a[i]\n",
        "    return a\n",
        "\n",
        "def shell_sort(a):\n",
        "    l=len(a)\n",
        "    gap=l//2\n",
        "    while gap>d0:\n",
        "        for i in range(gap,l):\n",
        "            inx=a[i]\n",
        "            j=i\n",
        "            while j>=gap and a[j-gap]>inx:\n",
        "                a[j]=a[j-gap]\n",
        "                j-=gap\n",
        "            a[j]=inx\n",
        "        gap=gap//2\n",
        "    return a\n",
        "\n",
        "\n",
        "a=[]\n",
        "n=int(input(\"enter a number \"))\n",
        "for i in range (n):\n",
        "    a.append(int(input(\"enter a number \")))\n",
        "print(shell_sort(a))\n",
        "\n",
        "\n",
        "\n",
        "\n",
        "def user_in():\n",
        "  n=int(input(\"enter the number of elements in the list \"))\n",
        "  lst1=[]\n",
        "  for i in range(n):\n",
        "    lst1.append(int(input()))\n",
        "  return lst1\n",
        "\n",
        "lst=user_in()\n",
        "\n",
        "\n",
        "\n"
      ],
      "execution_count": null,
      "outputs": [
        {
          "name": "stdout",
          "output_type": "stream",
          "text": [
            "enter the number of elements in the list 5\n",
            "30\n",
            "89\n",
            "0\n",
            "56\n",
            "74\n"
          ]
        }
      ]
    }
  ]
}