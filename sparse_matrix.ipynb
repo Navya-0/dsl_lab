{
  "nbformat": 4,
  "nbformat_minor": 0,
  "metadata": {
    "colab": {
      "name": "sparse matrix",
      "provenance": [],
      "collapsed_sections": [],
      "authorship_tag": "ABX9TyMPc5dWzyEp+TlQRHDeUDSh",
      "include_colab_link": true
    },
    "kernelspec": {
      "name": "python3",
      "display_name": "Python 3"
    },
    "language_info": {
      "name": "python"
    }
  },
  "cells": [
    {
      "cell_type": "markdown",
      "metadata": {
        "id": "view-in-github",
        "colab_type": "text"
      },
      "source": [
        "<a href=\"https://colab.research.google.com/github/Navya-0/dsl_lab/blob/main/sparse_matrix.ipynb\" target=\"_parent\"><img src=\"https://colab.research.google.com/assets/colab-badge.svg\" alt=\"Open In Colab\"/></a>"
      ]
    },
    {
      "cell_type": "code",
      "metadata": {
        "id": "l15n6kzDJm-k"
      },
      "source": [
        "row=int(input(\"enter no. of rows:\"))\n",
        "col=int(input(\"enter no. of col:\"))\n",
        "matrix=[]\n",
        "#matrix function\n",
        "def cmatrix():\n",
        "  for i in range(row):\n",
        "    a=[]\n",
        "    for j in range(col):\n",
        "      b=int(input())\n",
        "      a.append(b)\n",
        "    matrix.append(a)\n",
        "\n",
        "  for i in range(row):\n",
        "    for j in range(col):\n",
        "      print(matrix[i][j],end=' ')\n",
        "    print()\n",
        "  return matrix\n",
        "\n",
        "m=cmatrix()\n",
        "print(m)\n",
        "\n",
        "\n",
        "for i in range(row):\n",
        "  for j in range(col):\n",
        "    if m[i][j]==0:\n",
        "      continue\n",
        "    else :\n",
        "      print(i,'\\t',j,'\\t', m[i][j])\n",
        "\n",
        "matrix=[]\n",
        "x=cmatrix()\n",
        "print(x)\n",
        "\n",
        "\n",
        "for i in range(row):\n",
        "  for j in range(col):\n",
        "    if x[i][j]==0:\n",
        "      continue\n",
        "    else :\n",
        "      print(i,'\\t',j,'\\t', x[i][j])\n",
        "\n",
        "for i in range(row):\n",
        "  for j in range(col):\n",
        "    if m[i][j]!=0 and x[i][j]!=0:\n",
        "      print(i,'\\t',j,'\\t',m[i][j]+x[i][j])"
      ],
      "execution_count": null,
      "outputs": []
    }
  ]
}