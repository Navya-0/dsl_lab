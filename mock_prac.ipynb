{
  "nbformat": 4,
  "nbformat_minor": 0,
  "metadata": {
    "colab": {
      "name": "mock_prac",
      "provenance": [],
      "authorship_tag": "ABX9TyNWSRNK0NN2Ffma7YgOxAlQ",
      "include_colab_link": true
    },
    "kernelspec": {
      "name": "python3",
      "display_name": "Python 3"
    },
    "language_info": {
      "name": "python"
    }
  },
  "cells": [
    {
      "cell_type": "markdown",
      "metadata": {
        "id": "view-in-github",
        "colab_type": "text"
      },
      "source": [
        "<a href=\"https://colab.research.google.com/github/Navya-0/dsl_lab/blob/main/mock_prac.ipynb\" target=\"_parent\"><img src=\"https://colab.research.google.com/assets/colab-badge.svg\" alt=\"Open In Colab\"/></a>"
      ]
    },
    {
      "cell_type": "code",
      "metadata": {
        "colab": {
          "base_uri": "https://localhost:8080/"
        },
        "id": "qwW-KQV7xUrR",
        "outputId": "6d0d962a-270c-4e15-e169-7d59885a7fa1"
      },
      "source": [
        "def lin_src(emp,st_id):\n",
        "  pos=0\n",
        "  f=0\n",
        "  for i in range (len(emp)):\n",
        "    if emp[i]==st_id:\n",
        "      pos=i\n",
        "      break\n",
        "    f+=1\n",
        "  if f==len(emp):\n",
        "    print(\"student id not found\")\n",
        "  else:\n",
        "    print(\"student id found at position\", pos)\n",
        "\n",
        "\n",
        "  \n",
        "def sentinelSearch(emp, n, key):\n",
        " \n",
        "    # Last element of the array\n",
        "    last = emp[n - 1]\n",
        " \n",
        "    # Element to be searched is\n",
        "    # placed at the last index\n",
        "    emp[n - 1] = key\n",
        "    i = 0\n",
        " \n",
        "    while (emp[i] != key):\n",
        "        i += 1\n",
        " \n",
        "    # Put the last element back\n",
        "    emp[n - 1] = last\n",
        " \n",
        "    if ((i < n - 1) or (emp[n - 1] == key)):\n",
        "        print(key, \"is present at index\", i)\n",
        "    else:\n",
        "        print(\"Element Not found\")\n",
        "       \n",
        "emp=[21,53,96,19,11]\n",
        "st_id=9\n",
        "key=9\n",
        "n=len(emp)\n",
        "\n",
        "lin_src(emp,st_id)\n",
        "sentinelSearch(emp, n, key)"
      ],
      "execution_count": null,
      "outputs": [
        {
          "output_type": "stream",
          "name": "stdout",
          "text": [
            "student id not found\n",
            "Element Not found\n"
          ]
        }
      ]
    },
    {
      "cell_type": "code",
      "metadata": {
        "colab": {
          "base_uri": "https://localhost:8080/"
        },
        "id": "LxHjyZ7l3P2K",
        "outputId": "21efe29e-ca99-4ea3-b5dd-b4679f1d391b"
      },
      "source": [
        "def bin_src(e,e_id):\n",
        "  low=0\n",
        "  high=len(e)-1\n",
        "  mid=0\n",
        "  while(low<high):\n",
        "    mid=(low+high)//2\n",
        "    if e[mid]==e_id:\n",
        "      print(\"employee found at position\",mid)\n",
        "      break\n",
        "    elif e[mid]>e_id:\n",
        "      high=mid-1\n",
        "    else:\n",
        "      low=mid+1\n",
        "\n",
        "def fib_src(e,e_id):\n",
        "  size=len(e)\n",
        "  st=-1\n",
        "  f0=0\n",
        "  f1=1\n",
        "  f2=1\n",
        "  while(f2<size):\n",
        "    f0=f1\n",
        "    f1=f2\n",
        "    f2=f1+f0\n",
        "  while(f2>1):\n",
        "    idx=min((st+f0),size-1)\n",
        "    if e[idx]<e_id:\n",
        "      f2=f1\n",
        "      f1=f0\n",
        "      f0=f2-f1\n",
        "      st=idx\n",
        "    elif e[idx]>e_id:\n",
        "      f2=f0\n",
        "      f1=f1-f0\n",
        "      f0=f2-f1\n",
        "    else:\n",
        "      return idx\n",
        "  if f1 and e[size-1] == e_id:\n",
        "\n",
        "   return size-1\n",
        "  else:\n",
        "    print(\"not found\")\n",
        "\n",
        "\n",
        "e=[1,3,6,9,11]\n",
        "e_id=55\n",
        "bin_src(e,e_id)\n",
        "fib_src(e,e_id)\n",
        "       "
      ],
      "execution_count": null,
      "outputs": [
        {
          "output_type": "stream",
          "name": "stdout",
          "text": [
            "not found\n"
          ]
        }
      ]
    }
  ]
}