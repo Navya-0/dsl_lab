{
  "nbformat": 4,
  "nbformat_minor": 0,
  "metadata": {
    "colab": {
      "provenance": [],
      "authorship_tag": "ABX9TyOFD+YmVQSFhLknoNWSyxVC",
      "include_colab_link": true
    },
    "kernelspec": {
      "name": "python3",
      "display_name": "Python 3"
    },
    "language_info": {
      "name": "python"
    }
  },
  "cells": [
    {
      "cell_type": "markdown",
      "metadata": {
        "id": "view-in-github",
        "colab_type": "text"
      },
      "source": [
        "<a href=\"https://colab.research.google.com/github/Navya-0/dsl_lab/blob/main/ann2.ipynb\" target=\"_parent\"><img src=\"https://colab.research.google.com/assets/colab-badge.svg\" alt=\"Open In Colab\"/></a>"
      ]
    },
    {
      "cell_type": "code",
      "execution_count": 1,
      "metadata": {
        "id": "IYBxNQnxeEMJ"
      },
      "outputs": [],
      "source": [
        "import numpy as np"
      ]
    },
    {
      "cell_type": "code",
      "source": [
        "class McCullochPittsNeuron():\n",
        "  def __init__(self, threshold, weights):\n",
        "    self.threshold = threshold\n",
        "    self.weights = weights\n",
        "    self.output = []\n",
        "\n",
        "  def andNot(self, inputs):\n",
        "    for inputXY in inputs:\n",
        "      self.weightedSum = self.weights[0]*inputXY[0] + self.weights[1]*inputXY[1]\n",
        "      if self.weightedSum >= self.threshold:\n",
        "        self.output.append(1)\n",
        "      else:\n",
        "        self.output.append(0)\n",
        "    return self.output"
      ],
      "metadata": {
        "id": "vgtIHXBHgdla"
      },
      "execution_count": 2,
      "outputs": []
    },
    {
      "cell_type": "code",
      "source": [
        "mcpn = McCullochPittsNeuron(1, [1, -1])\n",
        "output = mcpn.andNot([(0,0), (0,1), (1, 0), (1, 1)])\n",
        "print(\"Output of McCulloch Pitts Neuron\",output)\n"
      ],
      "metadata": {
        "colab": {
          "base_uri": "https://localhost:8080/"
        },
        "id": "4taNBqjNgdoQ",
        "outputId": "8b50b6cc-6768-4864-b532-a9ba6f4e55bc"
      },
      "execution_count": 3,
      "outputs": [
        {
          "output_type": "stream",
          "name": "stdout",
          "text": [
            "Output of McCulloch Pitts Neuron [0, 0, 1, 0]\n"
          ]
        }
      ]
    }
  ]
}