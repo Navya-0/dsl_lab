{
  "nbformat": 4,
  "nbformat_minor": 0,
  "metadata": {
    "colab": {
      "name": "string",
      "provenance": [],
      "collapsed_sections": [],
      "authorship_tag": "ABX9TyNNpA+kV4Y4jdlBJNJEuze8",
      "include_colab_link": true
    },
    "kernelspec": {
      "name": "python3",
      "display_name": "Python 3"
    },
    "language_info": {
      "name": "python"
    }
  },
  "cells": [
    {
      "cell_type": "markdown",
      "metadata": {
        "id": "view-in-github",
        "colab_type": "text"
      },
      "source": [
        "<a href=\"https://colab.research.google.com/github/Navya-0/dsl_lab/blob/main/string.ipynb\" target=\"_parent\"><img src=\"https://colab.research.google.com/assets/colab-badge.svg\" alt=\"Open In Colab\"/></a>"
      ]
    },
    {
      "cell_type": "code",
      "metadata": {
        "id": "1L0-lGKoI53B"
      },
      "source": [
        "a=input(\"first and last name of the student:\")\n",
        "#To display name with the longest length\n",
        "c=[]\n",
        "c=a.split()\n",
        "x=0\n",
        "for i in range(len(c)):\n",
        "  if x<len(c[i]):\n",
        "    x=len(c[i])\n",
        "    y=c[i]\n",
        "print(f\"{x} for {y}\")\n",
        "\n",
        "#To determines the frequency of occurrence of particular character in the string\n",
        "b=input('enter the character:')\n",
        "count=0\n",
        "for i in a:\n",
        "  if i==b:\n",
        "    count=count+1\n",
        "\n",
        "    \n",
        "print(count)\n",
        "\n",
        "#To check given string is palindrome or not\n",
        "q=a\n",
        "p=input(\"another string\")\n",
        "r=\" \"\n",
        "for i in range(len(p)-1,-1,-1):\n",
        "  r=r+p[i]\n",
        "if(q==p):\n",
        "  print(\"the string is palindrome=\")\n",
        "else: \n",
        "  print(\"it is not a palingdrone=\")\n",
        "\n",
        "\n",
        "\n",
        "#To display index of first substring\n",
        "z=input(\"enter the substring\")\n",
        "e=0\n",
        "for i in range(len(a)-1):  # \"a\" is from top line\n",
        "  if (a[i]==z[e]):\n",
        "    e=e+1\n",
        "    if(e==len(z)):\n",
        "      break\n",
        "  if len(z)==0:\n",
        "    break\n",
        "\n",
        "if(e<len(z)):\n",
        "    print(\"not present\")\n",
        "else:\n",
        "   k=i-e+1\n",
        "   print(f'{z} is present at position {k}')\n",
        "\n",
        "\n",
        "#To count the occurrences of each word in string\n",
        "g=input(\" enter the word\")\n",
        "count=0\n",
        "for i in c:\n",
        "  if i==g:\n",
        "    count=count+1\n",
        "print(count)"
      ],
      "execution_count": null,
      "outputs": []
    }
  ]
}