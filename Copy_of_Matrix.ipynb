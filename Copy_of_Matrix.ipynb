{
  "nbformat": 4,
  "nbformat_minor": 0,
  "metadata": {
    "colab": {
      "name": "Copy of Matrix",
      "provenance": [],
      "authorship_tag": "ABX9TyMNEegCk7UiKm5UPDTokJj7",
      "include_colab_link": true
    },
    "kernelspec": {
      "name": "python3",
      "display_name": "Python 3"
    },
    "language_info": {
      "name": "python"
    }
  },
  "cells": [
    {
      "cell_type": "markdown",
      "metadata": {
        "id": "view-in-github",
        "colab_type": "text"
      },
      "source": [
        "<a href=\"https://colab.research.google.com/github/Navya-0/dsl_lab/blob/main/Copy_of_Matrix.ipynb\" target=\"_parent\"><img src=\"https://colab.research.google.com/assets/colab-badge.svg\" alt=\"Open In Colab\"/></a>"
      ]
    },
    {
      "cell_type": "code",
      "metadata": {
        "colab": {
          "base_uri": "https://localhost:8080/"
        },
        "id": "Piu5NCWyz7eV",
        "outputId": "e8ca61be-f3b3-4ec9-8c4e-b1363dbfedc5"
      },
      "source": [
        "def mat (m,n):\n",
        "  out=[]\n",
        "  for i in range (m):\n",
        "    row=[]\n",
        "    for j in range(n):\n",
        "      num=int(input(\"enter a number\"))\n",
        "      row.append(num)\n",
        "    out.append(row)\n",
        "  return out\n",
        "\n",
        "def add():\n",
        "  g=mat(m,n)\n",
        "  h=mat(m,n)\n",
        "  sum=[]\n",
        "  for i in range(len(g)):\n",
        "    r=[]\n",
        "    for j in range(len(g[0])):\n",
        "      r.append(g[i][j]+h[i][j])\n",
        "    sum.append(r)   \n",
        "  return sum \n",
        "\n",
        "def sub():\n",
        "  g=mat(m,n)\n",
        "  h=mat(m,n)\n",
        "  sub1=[]\n",
        "  for i in range(len(g)):\n",
        "    r=[]\n",
        "    for j in range(len(g[0])):\n",
        "      r.append(g[i][j]-h[i][j])\n",
        "    sub1.append(r)   \n",
        "  return sub1 \n",
        "\n",
        "def mul():\n",
        "  result=[]\n",
        "  A=mat(m,n)\n",
        "  B=mat(m,n)\n",
        "  for i in range(m):\n",
        "      C =[]\n",
        "      for j in range(n):\n",
        "          C.append(0) \n",
        "      result.append(C) \n",
        "          \n",
        "  for i in range(len(A)):\n",
        "      for j in range(len(B[0])):\n",
        "          for k in range(len(B)): \n",
        "              result[i][j]+= A[i][k] * B[k][j] \n",
        "            \n",
        "  return 1\n",
        "result\n",
        "\n",
        "\n",
        "\n",
        "      \n",
        "\n",
        "\n",
        "m=int(input(\"enter number of rows\"))\n",
        "n=int(input(\"enter number of columns\"))\n",
        "y=add()\n",
        "print(y)\n",
        "r=sub()\n",
        "print(r)\n",
        "t=mul()\n",
        "print(t)"
      ],
      "execution_count": null,
      "outputs": [
        {
          "output_type": "stream",
          "name": "stdout",
          "text": [
            "enter number of rows2\n",
            "enter number of columns2\n",
            "enter a number1\n",
            "enter a number2\n",
            "enter a number3\n",
            "enter a number4\n",
            "enter a number5\n",
            "enter a number6\n",
            "enter a number7\n",
            "enter a number8\n",
            "[[6, 8], [10, 12]]\n",
            "enter a number1\n",
            "enter a number2\n",
            "enter a number3\n",
            "enter a number4\n",
            "enter a number5\n",
            "enter a number6\n",
            "enter a number7\n",
            "enter a number8\n",
            "<function sub at 0x7f6d2a1798c0>\n"
          ]
        }
      ]
    },
    {
      "cell_type": "code",
      "metadata": {
        "id": "ah_gB9E_qpQ9"
      },
      "source": [
        ""
      ],
      "execution_count": null,
      "outputs": []
    },
    {
      "cell_type": "code",
      "metadata": {
        "id": "A9azqWz7qgM6"
      },
      "source": [
        ""
      ],
      "execution_count": null,
      "outputs": []
    },
    {
      "cell_type": "code",
      "metadata": {
        "id": "pQ-13LcvqhJ7"
      },
      "source": [
        ""
      ],
      "execution_count": null,
      "outputs": []
    },
    {
      "cell_type": "markdown",
      "metadata": {
        "id": "B2jhh0Ghqi9F"
      },
      "source": [
        ""
      ]
    },
    {
      "cell_type": "markdown",
      "metadata": {
        "id": "0xJYX0tRqkMw"
      },
      "source": [
        ""
      ]
    }
  ]
}