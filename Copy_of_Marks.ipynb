{
  "nbformat": 4,
  "nbformat_minor": 0,
  "metadata": {
    "colab": {
      "name": "Copy of Marks.ipynb",
      "provenance": [],
      "authorship_tag": "ABX9TyO9VAf8habYPyd5Epd5XEvb",
      "include_colab_link": true
    },
    "kernelspec": {
      "name": "python3",
      "display_name": "Python 3"
    },
    "language_info": {
      "name": "python"
    }
  },
  "cells": [
    {
      "cell_type": "markdown",
      "metadata": {
        "id": "view-in-github",
        "colab_type": "text"
      },
      "source": [
        "<a href=\"https://colab.research.google.com/github/Navya-0/dsl_lab/blob/main/Copy_of_Marks.ipynb\" target=\"_parent\"><img src=\"https://colab.research.google.com/assets/colab-badge.svg\" alt=\"Open In Colab\"/></a>"
      ]
    },
    {
      "cell_type": "code",
      "metadata": {
        "id": "OS8II7-MQOtS"
      },
      "source": [
        "\n",
        "\n",
        "def totalavg(l):\n",
        "  sum=0\n",
        "  count=len(l)\n",
        "  for i in range(count):\n",
        "    sum=sum+l[i]\n",
        "  avg=sum/count\n",
        "  print(\"total marks=\",sum)\n",
        "  print(\"total average=\",avg)\n",
        "\n",
        "def maxmin(l):\n",
        "  max=0\n",
        "  min=l[0]\n",
        "  for i in range(len(l)):\n",
        "    if(max<l[i]):\n",
        "      max=l[i]\n",
        "    elif(min>l[i]):\n",
        "      min=l[i]\n",
        "  print(\"max =\",max)\n",
        "  print(\"min =\",min) \n",
        "\n",
        "def highest_freq(l):\n",
        "  \n",
        "  result=0\n",
        "  for i in range (len(l)):\n",
        "    x=list[i]\n",
        "    f=0\n",
        "    for j in range(len(l)):\n",
        "      if(l[i]==l[j]):\n",
        "        f=f+1\n",
        "    if(result<f):\n",
        "      result=f\n",
        "  print(\"max frequency=\",result)\n",
        "\n",
        "def absent(l):\n",
        "  min=l[0]\n",
        "  absent=0\n",
        "  for i in range (len(l)):\n",
        "    if l[i]== -1:\n",
        "      absent=absent+1\n",
        "    if l[i]<min :\n",
        "      min=l[i]\n",
        "  print(f\"minimum marks are ={min}\")\n",
        "  print(f\"no. of absent stud : {absent}\")\n",
        "\n",
        "\n",
        "n=int(input())\n",
        "l=[]\n",
        "for i in range(n):\n",
        "  x=int(input())\n",
        "  l.append(x)\n",
        "\n",
        "totalavg(l)\n",
        "maxmin(l)\n",
        "highest_freq(l)\n",
        "absent(l)\n",
        "\n",
        "\n"
      ],
      "execution_count": null,
      "outputs": []
    }
  ]
}