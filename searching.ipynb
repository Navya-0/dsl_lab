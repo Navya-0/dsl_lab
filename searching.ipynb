{
  "nbformat": 4,
  "nbformat_minor": 0,
  "metadata": {
    "colab": {
      "name": "searching",
      "provenance": [],
      "collapsed_sections": [],
      "authorship_tag": "ABX9TyPrc0I38/zrQwTEe/9zhquM",
      "include_colab_link": true
    },
    "kernelspec": {
      "name": "python3",
      "display_name": "Python 3"
    },
    "language_info": {
      "name": "python"
    }
  },
  "cells": [
    {
      "cell_type": "markdown",
      "metadata": {
        "id": "view-in-github",
        "colab_type": "text"
      },
      "source": [
        "<a href=\"https://colab.research.google.com/github/Navya-0/dsl_lab/blob/main/searching.ipynb\" target=\"_parent\"><img src=\"https://colab.research.google.com/assets/colab-badge.svg\" alt=\"Open In Colab\"/></a>"
      ]
    },
    {
      "cell_type": "code",
      "metadata": {
        "id": "KhsiV4MLJxRA"
      },
      "source": [
        "#linear search\n",
        "a=[]\n",
        "noofstud=int(input(\"Enter the number of students \"))\n",
        "for i in range(0,noofstud):\n",
        "  a.append(int(input(\"Enter the roll numbers \")))\n",
        "print(a)\n",
        "lsearch=int(input(\"Enter the roll number to be searched \"))\n",
        "count=0\n",
        "for i in range(noofstud):\n",
        "  if(a[i]==lsearch):\n",
        "    count=1\n",
        "    break\n",
        "  else:\n",
        "    count=0\n",
        "if(count==1):\n",
        "  print(f\"Roll number found at position {i}\")\n",
        "else:\n",
        "  print(\"Not found\")\n",
        "sentinal search\n",
        "#sentinel search\n",
        "b=[]\n",
        "noofstud=int(input(\"Enter the number of students \"))\n",
        "for i in range(0,noofstud):\n",
        "  b.append(int(input(\"Enter the roll numbers \")))\n",
        "print(b)\n",
        "ssearch=int(input(\"Enter the roll number to be searched \"))\n",
        "if (ssearch==b[noofstud-1]):\n",
        "  print(f\"found at position {noofstud-1}\")\n",
        "else:\n",
        "  b[noofstud-1]=ssearch\n",
        "  print(b)\n",
        "  for i in range(0,len(b)-2):\n",
        "    if(i==b[noofstud-1]):\n",
        "      print(f\"Found at position {i}\")\n",
        "BINARY SEARCH\n",
        "#Binary search\n",
        "def Binarysearch(c,bsearch):\n",
        "  first=0\n",
        "  last=noofstud-1\n",
        "  mid=0\n",
        "  while first<=last:\n",
        "    middle=((first+(last))//2)\n",
        "    if bsearch not in c:\n",
        "      return -1\n",
        "    elif(c[middle]==bsearch):\n",
        "      return middle\n",
        "    elif(c[middle]<bsearch):\n",
        "      first=middle\n",
        "    elif(c[middle]>bsearch):\n",
        "      last=middle\n",
        "    if bsearch not in c:\n",
        "      return -1\n",
        "c=[]\n",
        "noofstud=int(input(\"Enter the number of students \"))\n",
        "for i in range(0,noofstud):\n",
        "  c.append(int(input(\"Enter the roll numbers in sorted order \")))\n",
        "print(c)\n",
        "bsearch=int(input(\"Enter the roll number to be searched \"))\n",
        "\n",
        "\n",
        "\n",
        "a=Binarysearch(c,bsearch)\n",
        "if a==-1:\n",
        "  print(\"Not found\")\n",
        "else:\n",
        "  print(f\"{bsearch} is present at {a}\")"
      ],
      "execution_count": null,
      "outputs": []
    }
  ]
}