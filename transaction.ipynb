{
  "nbformat": 4,
  "nbformat_minor": 0,
  "metadata": {
    "colab": {
      "name": "transaction",
      "provenance": [],
      "authorship_tag": "ABX9TyNohr8F6d7NxrOAiXNQBQf5",
      "include_colab_link": true
    },
    "kernelspec": {
      "name": "python3",
      "display_name": "Python 3"
    },
    "language_info": {
      "name": "python"
    }
  },
  "cells": [
    {
      "cell_type": "markdown",
      "metadata": {
        "id": "view-in-github",
        "colab_type": "text"
      },
      "source": [
        "<a href=\"https://colab.research.google.com/github/Navya-0/dsl_lab/blob/main/transaction.ipynb\" target=\"_parent\"><img src=\"https://colab.research.google.com/assets/colab-badge.svg\" alt=\"Open In Colab\"/></a>"
      ]
    },
    {
      "cell_type": "code",
      "metadata": {
        "id": "se1nB27lkm_k"
      },
      "source": [
        "bal=0\n",
        "n=100\n",
        "for i in range(n):\n",
        "  x=input(\"Enter operation and value in same line \")\n",
        "  y=[]\n",
        "  y=x.split()\n",
        "  operation=y[0]\n",
        "  temp=y[1]\n",
        "  value=int(temp)\n",
        "  if (operation=='d'):\n",
        "    bal=bal+value\n",
        "  elif (operation=='w'):\n",
        "    if(bal>value):\n",
        "      bal=bal-value\n",
        "  else:\n",
        "    print(\"Insufficient balance\")\n",
        "  z=input(\"Do you want to continue with next transaction \")\n",
        "  if (z=='yes' or z== 'y'):\n",
        "    pass\n",
        "  elif(z=='no' or z=='n'):\n",
        "    break\n",
        "print(f\"Balance is {bal}\")"
      ],
      "execution_count": null,
      "outputs": []
    }
  ]
}