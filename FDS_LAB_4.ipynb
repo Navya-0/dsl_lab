{
  "nbformat": 4,
  "nbformat_minor": 0,
  "metadata": {
    "colab": {
      "name": "FDS LAB 4",
      "provenance": [],
      "authorship_tag": "ABX9TyMf77fgLXr0IeUGiWtGHR49",
      "include_colab_link": true
    },
    "kernelspec": {
      "name": "python3",
      "display_name": "Python 3"
    },
    "language_info": {
      "name": "python"
    }
  },
  "cells": [
    {
      "cell_type": "markdown",
      "metadata": {
        "id": "view-in-github",
        "colab_type": "text"
      },
      "source": [
        "<a href=\"https://colab.research.google.com/github/Navya-0/dsl_lab/blob/main/FDS_LAB_4.ipynb\" target=\"_parent\"><img src=\"https://colab.research.google.com/assets/colab-badge.svg\" alt=\"Open In Colab\"/></a>"
      ]
    },
    {
      "cell_type": "code",
      "metadata": {
        "colab": {
          "base_uri": "https://localhost:8080/"
        },
        "id": "Piu5NCWyz7eV",
        "outputId": "129efd22-9a5d-49bd-9179-3e7f85d77f28"
      },
      "source": [
        "def mat (m,n):\n",
        "  out=[]\n",
        "  for i in range (m):\n",
        "    row=[]\n",
        "    for j in range(n):\n",
        "      num=int(input(\"enter a number\"))\n",
        "      row.append(num)\n",
        "    out.append(row)\n",
        "  return out\n",
        "\n",
        "def add():\n",
        "  g=mat(m,n)\n",
        "  h=mat(m,n)\n",
        "  sum=[]\n",
        "  for i in range(len(g)):\n",
        "    r=[]\n",
        "    for j in range(len(g[0])):\n",
        "      r.append(g[i][j]+h[i][j])\n",
        "    sum.append(r)   \n",
        "  return sum \n",
        "\n",
        "def sub():\n",
        "  g=mat(m,n)\n",
        "  h=mat(m,n)\n",
        "  sub1=[]\n",
        "  for i in range(len(g)):\n",
        "    r=[]\n",
        "    for j in range(len(g[0])):\n",
        "      r.append(g[i][j]-h[i][j])\n",
        "    sub1.append(r)   \n",
        "  return sub \n",
        "\n",
        "def mul():\n",
        "  result=[]\n",
        "  A=mat(m,n)\n",
        "  B=mat(m,n)\n",
        "  for i in range(m):\n",
        "      C =[]\n",
        "      for j in range(n):\n",
        "          C.append(0) \n",
        "      result.append(C) \n",
        "          \n",
        "  for i in range(len(A)):\n",
        "      for j in range(len(B[0])):\n",
        "          for k in range(len(B)): \n",
        "              result[i][j]+= A[i][k] * B[k][j] \n",
        "            \n",
        "  return(result)\n",
        "\n",
        "\n",
        "\n",
        "      \n",
        "\n",
        "\n",
        "m=int(input(\"enter number of rows\"))\n",
        "n=int(input(\"enter number of columns\"))\n",
        "y=sum()\n",
        "print(y)\n",
        "r=sub()\n",
        "print(r)\n",
        "t=mul()\n",
        "print(t)\n"
      ],
      "execution_count": null,
      "outputs": [
        {
          "output_type": "stream",
          "name": "stdout",
          "text": [
            "enter number of rows2\n",
            "enter number of columns2\n",
            "enter a number1\n",
            "enter a number2\n",
            "enter a number3\n",
            "enter a number4\n",
            "enter a number5\n",
            "enter a number6\n",
            "enter a number7\n",
            "enter a number8\n",
            "[[19, 22], [43, 50]]\n"
          ]
        }
      ]
    }
  ]
}